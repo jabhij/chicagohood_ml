{
 "cells": [
  {
   "cell_type": "code",
   "execution_count": null,
   "id": "34399ea9",
   "metadata": {},
   "outputs": [],
   "source": [
    "import numpy as np\n",
    "from sklearn.feature_extraction.text import TfidfVectorizer\n",
    "from sklearn.cluster import KMeans\n",
    "from recbole.model.general_recommender import NFM"
   ]
  },
  {
   "cell_type": "code",
   "execution_count": null,
   "id": "b6ee9c9f",
   "metadata": {},
   "outputs": [],
   "source": [
    "# Define the data path and other parameters\n",
    "data_path = \"https://raw.githubusercontent.com/jabhij/Tag-based-Recommendation-System/main/Dataset/combined_movie_genres_tags.csv?token=GHSAT0AAAAAACND5HXJIC7UJTADDEVZE5H6ZQF7MAQ\"\n",
    "embedding_size = 64\n",
    "num_clusters = 10  # number of tag clusters  \n",
    "\n",
    "# Create a dataset object\n",
    "dataset = RecBole.create_dataset(data_path)\n",
    "\n",
    "# Preprocess the data (tag clustering or tag count)\n",
    "def preprocess_tags(tag_data, num_clusters=10, use_tfidf=True):\n",
    "  \"\"\"\n",
    "  Preprocesses tag data for tag-based recommendation.\n",
    "\n",
    "  Args:\n",
    "      tag_data (list): List of lists representing tags for each item.\n",
    "      num_clusters (int, optional): Number of clusters for tag grouping (default: 10).\n",
    "      use_tfidf (bool, optional): Whether to use TF-IDF weighting (default: True).\n",
    "\n",
    "  Returns:\n",
    "      tuple: (tag_embeddings, context_features)\n",
    "          - tag_embeddings (np.ndarray): Item-tag matrix with TF-IDF weights (if enabled).\n",
    "          - context_features (np.ndarray): Item-cluster matrix representing tag groups.\n",
    "  \"\"\"\n",
    "\n",
    "  # 1. Vectorize Tags (TF-IDF or simple counts)\n",
    "  if use_tfidf:\n",
    "    vectorizer = TfidfVectorizer()\n",
    "    tag_embeddings = vectorizer.fit_transform([\", \".join(tags) for tags in tag_data])  # Join tags with comma\n",
    "  else:\n",
    "    tag_embeddings = np.array([[len(tag) for tag in item_tags] for item_tags in tag_data])  # Simple tag count\n",
    "\n",
    "  # 2. Cluster Tags (if desired)\n",
    "  if num_clusters > 0:\n",
    "    kmeans = KMeans(n_clusters=num_clusters, random_state=42)  # Set random state for reproducibility\n",
    "    kmeans.fit(tag_embeddings)\n",
    "    cluster_labels = kmeans.labels_.reshape(-1, 1)  # Reshape for concatenation\n",
    "\n",
    "    # 3. Create Context Features (one-hot encoding by default)\n",
    "    context_features = np.eye(num_clusters)[cluster_labels]  # One-hot encoding\n",
    "  else:\n",
    "    context_features = tag_embeddings  # Use tag embeddings directly if not clustering\n",
    "\n",
    "  return tag_embeddings, context_features\n",
    "\n",
    "# Define the model\n",
    "model = NFM(\n",
    "    user_num=dataset.user_num,\n",
    "    item_num=dataset.item_num,\n",
    "    embedding_size=embedding_size,\n",
    ")\n",
    "\n",
    "# Train the model\n",
    "model.fit(dataset)"
   ]
  },
  {
   "cell_type": "code",
   "execution_count": null,
   "id": "ea5868a5",
   "metadata": {},
   "outputs": [],
   "source": [
    "# Evaluate the model\n",
    "from recbole.evaluator import Evaluator\n",
    "\n",
    "# Define the evaluation metrics (e.g., NDCG, Recall)\n",
    "metrics = [\"NDCG@10\", \"Recall@20\"]\n",
    "\n",
    "# Create an evaluator object\n",
    "evaluator = Evaluator(model=model, dataset=dataset, metrics=metrics)\n",
    "\n",
    "# Evaluate the model\n",
    "result = evaluator.run()\n",
    "\n",
    "# Print the evaluation results\n",
    "print(f\"Evaluation Results:\")\n",
    "for metric, score in result.items():\n",
    "    print(f\"\\t- {metric}: {score:.4f}\")\n",
    "\n",
    "# ... (use the evaluation results for further analysis)"
   ]
  },
  {
   "cell_type": "code",
   "execution_count": null,
   "id": "14cdbff6",
   "metadata": {},
   "outputs": [],
   "source": [
    "# Make recommendations\n",
    "user_id = 100\n",
    "item_list = model.recommend(user_id)\n",
    "\n",
    "for item in item_list:\n",
    "    print(f\"Recommended item for user {user_id}: {item}\")"
   ]
  }
 ],
 "metadata": {
  "kernelspec": {
   "display_name": "Python 3 (ipykernel)",
   "language": "python",
   "name": "python3"
  },
  "language_info": {
   "codemirror_mode": {
    "name": "ipython",
    "version": 3
   },
   "file_extension": ".py",
   "mimetype": "text/x-python",
   "name": "python",
   "nbconvert_exporter": "python",
   "pygments_lexer": "ipython3",
   "version": "3.9.13"
  }
 },
 "nbformat": 4,
 "nbformat_minor": 5
}
